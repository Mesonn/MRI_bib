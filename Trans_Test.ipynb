{
 "cells": [
  {
   "cell_type": "code",
   "execution_count": 1,
   "metadata": {},
   "outputs": [],
   "source": [
    "import SimpleITK as sitk\n",
    "import numpy as np \n",
    "import matplotlib.pyplot as plt\n",
    "from pathlib import Path\n",
    "from mrio import dicom_reader,nifti_reader\n",
    "from models.roi import create_rois, ROI  # Import create_rois and ROI class\n",
    "from fitting.relaxation_fitting import RelaxationFittingModel\n",
    "from process import transform\n",
    "from fitting.analysis import compute_roi_statistics\n",
    "from visualization.mapplot import (\n",
    "    show_slice,\n",
    "    show_mask,\n",
    "    show_parameter_map_with_rois,\n",
    "    show_rois_with_mean,\n",
    ")"
   ]
  },
  {
   "cell_type": "code",
   "execution_count": 2,
   "metadata": {},
   "outputs": [],
   "source": [
    "input_dicom_folder_1 = '/home/gizmoo/Desktop/C01/CHockey_01_T0_l/DICOM_translated/MRTC-Studie_Hockey_K01_GAPF81827/20210907_1825/6_t2_de3d_we_cor_11121'\n",
    "input_mask_file= '/home/gizmoo/Desktop/C01/masks/Cor_Maske_C01_T0_l_04092024_1321.nii.gz'\n",
    "input_dicom_folder_2 = '/home/gizmoo/Desktop/C01/CHockey_01_T0_l/DICOM_translated/MRTC-Studie_Hockey_K01_GAPF81827/20210907_1825/7_T2-star_map_3D_cor_12541'\n",
    "out_nii_file = '/home/gizmoo/new_mask.nii.gz'"
   ]
  },
  {
   "cell_type": "code",
   "execution_count": 3,
   "metadata": {},
   "outputs": [],
   "source": [
    "# Convert the paths to Path objects\n",
    "transform(\n",
    "        input_dicom_folder_1=Path(input_dicom_folder_1),\n",
    "        input_mask_file=Path(input_mask_file),\n",
    "        input_dicom_folder_2=Path(input_dicom_folder_2),\n",
    "        out_nii_file=Path(out_nii_file),\n",
    "        reverse=False  # Set to True if you need to reverse the image order\n",
    "    )\n"
   ]
  }
 ],
 "metadata": {
  "kernelspec": {
   "display_name": "devi",
   "language": "python",
   "name": "python3"
  },
  "language_info": {
   "codemirror_mode": {
    "name": "ipython",
    "version": 3
   },
   "file_extension": ".py",
   "mimetype": "text/x-python",
   "name": "python",
   "nbconvert_exporter": "python",
   "pygments_lexer": "ipython3",
   "version": "3.12.7"
  }
 },
 "nbformat": 4,
 "nbformat_minor": 2
}

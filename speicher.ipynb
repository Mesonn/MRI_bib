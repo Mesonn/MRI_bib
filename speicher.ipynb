{
 "cells": [
  {
   "cell_type": "code",
   "execution_count": null,
   "metadata": {
    "vscode": {
     "languageId": "plaintext"
    }
   },
   "outputs": [],
   "source": [
    "Mask Size: (256, 256, 48)\n",
    "Echo Times: [10.0, 40.0, 70.0, 100.0]\n",
    "Image Size: (256, 256, 48)\n",
    "Number of ROIs Created: 4\n",
    "*****************************************************************************************************\n",
    "Fitting T1-rho curve for Label 1...\n",
    "Label 1 - Mean_T1-rho: 50.162 ms, Std_T1-rho : 6.907 ms\n",
    "Fitting T1-rho curve for Label 2...\n",
    "Label 2 - Mean_T1-rho: 42.511 ms, Std_T1-rho : 5.300 ms\n",
    "Fitting T1-rho curve for Label 3...\n",
    "Label 3 - Mean_T1-rho: 46.810 ms, Std_T1-rho : 10.942 ms\n",
    "Fitting T1-rho curve for Label 4...\n",
    "Label 4 - Mean_T1-rho: 52.195 ms, Std_T1-rho : 6.500 ms\n",
    "\n",
    "Mask Size: (256, 256, 96)\n",
    "Echo Times: [4.62, 9.41, 15.28, 21.15, 27.02, 32.89]\n",
    "Image Size: (256, 256, 96)\n",
    "Number of ROIs Created: 4\n",
    "*****************************************************************************************************\n",
    "Fitting T2* curve for Label 1...\n",
    "Label 1 - Mean_T2*: 42.111 ms, Std_T2*: 13.768 ms\n",
    "Fitting T2* curve for Label 2...\n",
    "Label 2 - Mean_T2*: 27.582 ms, Std_T2*: 9.143 ms\n",
    "Fitting T2* curve for Label 3...\n",
    "Label 3 - Mean_T2*: 34.402 ms, Std_T2*: 8.682 ms\n",
    "Fitting T2* curve for Label 4...\n",
    "Label 4 - Mean_T2*: 36.404 ms, Std_T2*: 9.200 ms"
   ]
  },
  {
   "cell_type": "markdown",
   "metadata": {},
   "source": [
    "Mask Size: (128, 128, 48)\n",
    "Echo Times: [9.4, 18.8, 28.2, 37.6, 47.0, 56.4, 65.8, 75.2, 84.6, 94.0]\n",
    "Image Size: (128, 128, 48)\n",
    "Number of ROIs Created: 4\n",
    "*****************************************************************************************************\n",
    "Fitting T2 curve for Label 1...\n",
    "Label 1 - Mean_T2: 42.878 ms, Std_T2: 14.017 ms\n",
    "Fitting T2 curve for Label 2...\n",
    "Label 2 - Mean_T2: 35.162 ms, Std_T2: 7.497 ms\n",
    "Fitting T2 curve for Label 3...\n",
    "Label 3 - Mean_T2: 46.923 ms, Std_T2: 11.578 ms\n",
    "Fitting T2 curve for Label 4...\n",
    "Label 4 - Mean_T2: 48.675 ms, Std_T2: 5.432 ms"
   ]
  },
  {
   "cell_type": "code",
   "execution_count": null,
   "metadata": {
    "vscode": {
     "languageId": "plaintext"
    }
   },
   "outputs": [],
   "source": [
    "Mask Size: (256, 256, 48)\n",
    "Echo Times: [10.0, 40.0, 70.0, 100.0]\n",
    "Image Size: (256, 256, 48)\n",
    "Number of ROIs Created: 4\n",
    "*****************************************************************************************************\n",
    "Fitting T1-rho curve for Label 1...\n",
    "Label 1 - Mean_T1-rho: 50.162 ms, Std_T1-rho : 6.907 ms\n",
    "Fitting T1-rho curve for Label 2...\n",
    "Label 2 - Mean_T1-rho: 42.511 ms, Std_T1-rho : 5.300 ms\n",
    "Fitting T1-rho curve for Label 3...\n",
    "Label 3 - Mean_T1-rho: 46.810 ms, Std_T1-rho : 10.942 ms\n",
    "Fitting T1-rho curve for Label 4...\n",
    "Label 4 - Mean_T1-rho: 52.195 ms, Std_T1-rho : 6.500 ms"
   ]
  }
 ],
 "metadata": {
  "language_info": {
   "name": "python"
  }
 },
 "nbformat": 4,
 "nbformat_minor": 2
}
